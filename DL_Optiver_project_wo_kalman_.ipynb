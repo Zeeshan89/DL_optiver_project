{
 "cells": [
  {
   "cell_type": "code",
   "execution_count": 1,
   "metadata": {
    "id": "BXTMLEkQkogS"
   },
   "outputs": [],
   "source": [
    "#!pip install pykalman\n",
    "#!pip install filterpy"
   ]
  },
  {
   "cell_type": "code",
   "execution_count": 2,
   "metadata": {
    "colab": {
     "base_uri": "https://localhost:8080/"
    },
    "id": "TNwxpm-Ky3UR",
    "outputId": "5b5b90fc-e6f6-48db-987e-8aaa093d9d1e"
   },
   "outputs": [],
   "source": [
    "#from google.colab import drive  ##Upload data on Gdrive and using data drom google drive\n",
    "#drive.mount('/content/drive')"
   ]
  },
  {
   "cell_type": "code",
   "execution_count": 3,
   "metadata": {
    "id": "vsCubw1Y_Rq4"
   },
   "outputs": [
    {
     "name": "stderr",
     "output_type": "stream",
     "text": [
      "2024-04-13 13:05:09.511194: I tensorflow/core/util/port.cc:113] oneDNN custom operations are on. You may see slightly different numerical results due to floating-point round-off errors from different computation orders. To turn them off, set the environment variable `TF_ENABLE_ONEDNN_OPTS=0`.\n",
      "2024-04-13 13:05:10.087800: I tensorflow/core/platform/cpu_feature_guard.cc:210] This TensorFlow binary is optimized to use available CPU instructions in performance-critical operations.\n",
      "To enable the following instructions: AVX2 AVX_VNNI FMA, in other operations, rebuild TensorFlow with the appropriate compiler flags.\n",
      "2024-04-13 13:05:10.953498: W tensorflow/compiler/tf2tensorrt/utils/py_utils.cc:38] TF-TRT Warning: Could not find TensorRT\n"
     ]
    }
   ],
   "source": [
    "##Loading some important libraries\n",
    "\n",
    "import matplotlib.pyplot as plt\n",
    "import seaborn as sns\n",
    "import os\n",
    "import numpy as np\n",
    "import pandas as pd\n",
    "from lightgbm import LGBMRegressor\n",
    "from sklearn.metrics import mean_squared_error, r2_score, make_scorer, mean_absolute_error\n",
    "from sklearn.model_selection import cross_val_score\n",
    "from sklearn.model_selection import train_test_split\n",
    "from sklearn.preprocessing import StandardScaler\n",
    "from tensorflow.keras.models import Sequential\n",
    "from tensorflow.keras.layers import Dense, Dropout, LSTM, Bidirectional\n",
    "from tensorflow.keras.optimizers import Adam\n",
    "from sklearn.model_selection import KFold\n",
    "import tensorflow as tf\n",
    "from pykalman import KalmanFilter\n",
    "from statistics import stdev\n",
    "from filterpy.kalman import KalmanFilter\n",
    "from filterpy.kalman import predict, update"
   ]
  },
  {
   "cell_type": "code",
   "execution_count": null,
   "metadata": {
    "id": "Zf7x2vH0yzdq"
   },
   "outputs": [],
   "source": []
  },
  {
   "cell_type": "code",
   "execution_count": 4,
   "metadata": {
    "id": "o31PMLXP-6lf"
   },
   "outputs": [],
   "source": [
    "##Loading both training and validation sets\n",
    "train_df = pd.read_csv('train.csv')\n",
    "test_df = pd.read_csv('test.csv')"
   ]
  },
  {
   "cell_type": "code",
   "execution_count": 5,
   "metadata": {
    "colab": {
     "base_uri": "https://localhost:8080/",
     "height": 244
    },
    "id": "feWOQLOxAjqG",
    "outputId": "aa171c34-40c2-4fec-f9e3-d152f7f5fd6b"
   },
   "outputs": [
    {
     "name": "stdout",
     "output_type": "stream",
     "text": [
      "(5237980, 17)\n"
     ]
    },
    {
     "data": {
      "text/html": [
       "<div>\n",
       "<style scoped>\n",
       "    .dataframe tbody tr th:only-of-type {\n",
       "        vertical-align: middle;\n",
       "    }\n",
       "\n",
       "    .dataframe tbody tr th {\n",
       "        vertical-align: top;\n",
       "    }\n",
       "\n",
       "    .dataframe thead th {\n",
       "        text-align: right;\n",
       "    }\n",
       "</style>\n",
       "<table border=\"1\" class=\"dataframe\">\n",
       "  <thead>\n",
       "    <tr style=\"text-align: right;\">\n",
       "      <th></th>\n",
       "      <th>stock_id</th>\n",
       "      <th>date_id</th>\n",
       "      <th>seconds_in_bucket</th>\n",
       "      <th>imbalance_size</th>\n",
       "      <th>imbalance_buy_sell_flag</th>\n",
       "      <th>reference_price</th>\n",
       "      <th>matched_size</th>\n",
       "      <th>far_price</th>\n",
       "      <th>near_price</th>\n",
       "      <th>bid_price</th>\n",
       "      <th>bid_size</th>\n",
       "      <th>ask_price</th>\n",
       "      <th>ask_size</th>\n",
       "      <th>wap</th>\n",
       "      <th>target</th>\n",
       "      <th>time_id</th>\n",
       "      <th>row_id</th>\n",
       "    </tr>\n",
       "  </thead>\n",
       "  <tbody>\n",
       "    <tr>\n",
       "      <th>0</th>\n",
       "      <td>0</td>\n",
       "      <td>0</td>\n",
       "      <td>0</td>\n",
       "      <td>3180602.69</td>\n",
       "      <td>1</td>\n",
       "      <td>0.999812</td>\n",
       "      <td>13380276.64</td>\n",
       "      <td>NaN</td>\n",
       "      <td>NaN</td>\n",
       "      <td>0.999812</td>\n",
       "      <td>60651.50</td>\n",
       "      <td>1.000026</td>\n",
       "      <td>8493.03</td>\n",
       "      <td>1.0</td>\n",
       "      <td>-3.029704</td>\n",
       "      <td>0</td>\n",
       "      <td>0_0_0</td>\n",
       "    </tr>\n",
       "    <tr>\n",
       "      <th>1</th>\n",
       "      <td>1</td>\n",
       "      <td>0</td>\n",
       "      <td>0</td>\n",
       "      <td>166603.91</td>\n",
       "      <td>-1</td>\n",
       "      <td>0.999896</td>\n",
       "      <td>1642214.25</td>\n",
       "      <td>NaN</td>\n",
       "      <td>NaN</td>\n",
       "      <td>0.999896</td>\n",
       "      <td>3233.04</td>\n",
       "      <td>1.000660</td>\n",
       "      <td>20605.09</td>\n",
       "      <td>1.0</td>\n",
       "      <td>-5.519986</td>\n",
       "      <td>0</td>\n",
       "      <td>0_0_1</td>\n",
       "    </tr>\n",
       "    <tr>\n",
       "      <th>2</th>\n",
       "      <td>2</td>\n",
       "      <td>0</td>\n",
       "      <td>0</td>\n",
       "      <td>302879.87</td>\n",
       "      <td>-1</td>\n",
       "      <td>0.999561</td>\n",
       "      <td>1819368.03</td>\n",
       "      <td>NaN</td>\n",
       "      <td>NaN</td>\n",
       "      <td>0.999403</td>\n",
       "      <td>37956.00</td>\n",
       "      <td>1.000298</td>\n",
       "      <td>18995.00</td>\n",
       "      <td>1.0</td>\n",
       "      <td>-8.389950</td>\n",
       "      <td>0</td>\n",
       "      <td>0_0_2</td>\n",
       "    </tr>\n",
       "    <tr>\n",
       "      <th>3</th>\n",
       "      <td>3</td>\n",
       "      <td>0</td>\n",
       "      <td>0</td>\n",
       "      <td>11917682.27</td>\n",
       "      <td>-1</td>\n",
       "      <td>1.000171</td>\n",
       "      <td>18389745.62</td>\n",
       "      <td>NaN</td>\n",
       "      <td>NaN</td>\n",
       "      <td>0.999999</td>\n",
       "      <td>2324.90</td>\n",
       "      <td>1.000214</td>\n",
       "      <td>479032.40</td>\n",
       "      <td>1.0</td>\n",
       "      <td>-4.010200</td>\n",
       "      <td>0</td>\n",
       "      <td>0_0_3</td>\n",
       "    </tr>\n",
       "    <tr>\n",
       "      <th>4</th>\n",
       "      <td>4</td>\n",
       "      <td>0</td>\n",
       "      <td>0</td>\n",
       "      <td>447549.96</td>\n",
       "      <td>-1</td>\n",
       "      <td>0.999532</td>\n",
       "      <td>17860614.95</td>\n",
       "      <td>NaN</td>\n",
       "      <td>NaN</td>\n",
       "      <td>0.999394</td>\n",
       "      <td>16485.54</td>\n",
       "      <td>1.000016</td>\n",
       "      <td>434.10</td>\n",
       "      <td>1.0</td>\n",
       "      <td>-7.349849</td>\n",
       "      <td>0</td>\n",
       "      <td>0_0_4</td>\n",
       "    </tr>\n",
       "  </tbody>\n",
       "</table>\n",
       "</div>"
      ],
      "text/plain": [
       "   stock_id  date_id  seconds_in_bucket  imbalance_size  \\\n",
       "0         0        0                  0      3180602.69   \n",
       "1         1        0                  0       166603.91   \n",
       "2         2        0                  0       302879.87   \n",
       "3         3        0                  0     11917682.27   \n",
       "4         4        0                  0       447549.96   \n",
       "\n",
       "   imbalance_buy_sell_flag  reference_price  matched_size  far_price  \\\n",
       "0                        1         0.999812   13380276.64        NaN   \n",
       "1                       -1         0.999896    1642214.25        NaN   \n",
       "2                       -1         0.999561    1819368.03        NaN   \n",
       "3                       -1         1.000171   18389745.62        NaN   \n",
       "4                       -1         0.999532   17860614.95        NaN   \n",
       "\n",
       "   near_price  bid_price  bid_size  ask_price   ask_size  wap    target  \\\n",
       "0         NaN   0.999812  60651.50   1.000026    8493.03  1.0 -3.029704   \n",
       "1         NaN   0.999896   3233.04   1.000660   20605.09  1.0 -5.519986   \n",
       "2         NaN   0.999403  37956.00   1.000298   18995.00  1.0 -8.389950   \n",
       "3         NaN   0.999999   2324.90   1.000214  479032.40  1.0 -4.010200   \n",
       "4         NaN   0.999394  16485.54   1.000016     434.10  1.0 -7.349849   \n",
       "\n",
       "   time_id row_id  \n",
       "0        0  0_0_0  \n",
       "1        0  0_0_1  \n",
       "2        0  0_0_2  \n",
       "3        0  0_0_3  \n",
       "4        0  0_0_4  "
      ]
     },
     "execution_count": 5,
     "metadata": {},
     "output_type": "execute_result"
    }
   ],
   "source": [
    "## checking the shape of data and representation\n",
    "print(train_df.shape)\n",
    "train_df.head()"
   ]
  },
  {
   "cell_type": "code",
   "execution_count": 6,
   "metadata": {
    "colab": {
     "base_uri": "https://localhost:8080/"
    },
    "id": "FSgRoXj9BNVF",
    "outputId": "81e0459d-289f-4ec6-868c-b6042ed5ddaf"
   },
   "outputs": [
    {
     "name": "stdout",
     "output_type": "stream",
     "text": [
      "stock_id                         0\n",
      "date_id                          0\n",
      "seconds_in_bucket                0\n",
      "imbalance_size                 220\n",
      "imbalance_buy_sell_flag          0\n",
      "reference_price                220\n",
      "matched_size                   220\n",
      "far_price                  2894342\n",
      "near_price                 2857180\n",
      "bid_price                      220\n",
      "bid_size                         0\n",
      "ask_price                      220\n",
      "ask_size                         0\n",
      "wap                            220\n",
      "target                          88\n",
      "time_id                          0\n",
      "row_id                           0\n",
      "dtype: int64\n"
     ]
    }
   ],
   "source": [
    "# Checking the number of missing values in each training set column\n",
    "missing_values_train = train_df.isna().sum(axis=0)\n",
    "print(missing_values_train)"
   ]
  },
  {
   "cell_type": "code",
   "execution_count": 7,
   "metadata": {
    "colab": {
     "base_uri": "https://localhost:8080/"
    },
    "id": "dLoVynfrCRAc",
    "outputId": "7d69aa22-3dab-462f-b2a1-709d432830db"
   },
   "outputs": [
    {
     "name": "stdout",
     "output_type": "stream",
     "text": [
      "stock_id                       0\n",
      "date_id                        0\n",
      "seconds_in_bucket              0\n",
      "imbalance_size                 0\n",
      "imbalance_buy_sell_flag        0\n",
      "reference_price                0\n",
      "matched_size                   0\n",
      "far_price                  18229\n",
      "near_price                 18000\n",
      "bid_price                      0\n",
      "bid_size                       0\n",
      "ask_price                      0\n",
      "ask_size                       0\n",
      "wap                            0\n",
      "time_id                        0\n",
      "row_id                         0\n",
      "currently_scored               0\n",
      "dtype: int64\n"
     ]
    }
   ],
   "source": [
    "# Checking the number of missing values in each testing set column\n",
    "missing_values_test = test_df.isna().sum(axis=0)\n",
    "print(missing_values_test)"
   ]
  },
  {
   "cell_type": "code",
   "execution_count": 8,
   "metadata": {
    "id": "i9XbgQEwB6bM"
   },
   "outputs": [],
   "source": [
    "## far_price and near_price have most missing values, which are filled using the 0\n",
    "train_df['far_price'].fillna(0, inplace = True)\n",
    "train_df['near_price'].fillna(0, inplace = True)\n",
    "\n",
    "test_df['far_price'].fillna(0, inplace = True)\n",
    "test_df['near_price'].fillna(0, inplace = True)"
   ]
  },
  {
   "cell_type": "code",
   "execution_count": 9,
   "metadata": {
    "id": "i-qmCciqCxtI"
   },
   "outputs": [],
   "source": [
    "# Dropping specified values, which have missing values\n",
    "train_df.dropna(inplace = True)\n",
    "train_df.reset_index(inplace = True)"
   ]
  },
  {
   "cell_type": "code",
   "execution_count": 10,
   "metadata": {
    "colab": {
     "base_uri": "https://localhost:8080/"
    },
    "id": "sZ_NlYjKCr4i",
    "outputId": "b9789c18-2ee2-4541-cc3d-549cb78bd60e"
   },
   "outputs": [
    {
     "name": "stdout",
     "output_type": "stream",
     "text": [
      "index                      0\n",
      "stock_id                   0\n",
      "date_id                    0\n",
      "seconds_in_bucket          0\n",
      "imbalance_size             0\n",
      "imbalance_buy_sell_flag    0\n",
      "reference_price            0\n",
      "matched_size               0\n",
      "far_price                  0\n",
      "near_price                 0\n",
      "bid_price                  0\n",
      "bid_size                   0\n",
      "ask_price                  0\n",
      "ask_size                   0\n",
      "wap                        0\n",
      "target                     0\n",
      "time_id                    0\n",
      "row_id                     0\n",
      "dtype: int64\n"
     ]
    }
   ],
   "source": [
    "# Making sure the number of missing values in training set\n",
    "missing_values_train = train_df.isna().sum(axis=0)\n",
    "print(missing_values_train)"
   ]
  },
  {
   "cell_type": "code",
   "execution_count": 11,
   "metadata": {
    "colab": {
     "base_uri": "https://localhost:8080/"
    },
    "id": "IdmWKuW3CbWf",
    "outputId": "c9e78390-8ea6-48b5-eeb0-670fe69d941a"
   },
   "outputs": [
    {
     "name": "stdout",
     "output_type": "stream",
     "text": [
      "stock_id                   0\n",
      "date_id                    0\n",
      "seconds_in_bucket          0\n",
      "imbalance_size             0\n",
      "imbalance_buy_sell_flag    0\n",
      "reference_price            0\n",
      "matched_size               0\n",
      "far_price                  0\n",
      "near_price                 0\n",
      "bid_price                  0\n",
      "bid_size                   0\n",
      "ask_price                  0\n",
      "ask_size                   0\n",
      "wap                        0\n",
      "time_id                    0\n",
      "row_id                     0\n",
      "currently_scored           0\n",
      "dtype: int64\n"
     ]
    }
   ],
   "source": [
    "# Making sure the number of missing values in testing set\n",
    "missing_values_test = test_df.isna().sum(axis=0)\n",
    "print(missing_values_test)\n"
   ]
  },
  {
   "cell_type": "code",
   "execution_count": 12,
   "metadata": {
    "colab": {
     "base_uri": "https://localhost:8080/"
    },
    "id": "08wJrq-CkogX",
    "outputId": "199e0e5a-b63c-4641-ba31-a12f5e6189d0"
   },
   "outputs": [
    {
     "name": "stdout",
     "output_type": "stream",
     "text": [
      "(5237760, 18)\n",
      "(33000, 17)\n"
     ]
    }
   ],
   "source": [
    "print(train_df.shape)\n",
    "print(test_df.shape)"
   ]
  },
  {
   "cell_type": "code",
   "execution_count": 13,
   "metadata": {
    "colab": {
     "base_uri": "https://localhost:8080/",
     "height": 725
    },
    "id": "d2TnPfnPC_0Y",
    "outputId": "57b89839-49f0-418c-f7d7-ea00f560c83c"
   },
   "outputs": [
    {
     "name": "stdout",
     "output_type": "stream",
     "text": [
      "count    5.237760e+06\n",
      "mean    -4.758886e-02\n",
      "std      9.452816e+00\n",
      "min     -3.852898e+02\n",
      "25%     -4.559755e+00\n",
      "50%     -6.020069e-02\n",
      "75%      4.409552e+00\n",
      "max      4.460704e+02\n",
      "Name: target, dtype: float64\n"
     ]
    },
    {
     "data": {
      "image/png": "[encoded data removed]",
      "text/plain": [
       "<Figure size 800x600 with 1 Axes>"
      ]
     },
     "metadata": {},
     "output_type": "display_data"
    }
   ],
   "source": [
    "## Understanding the stats of target\n",
    "print(train_df['target'].describe())\n",
    "\n",
    "plt.figure(figsize=(8, 6))\n",
    "sns.histplot(train_df['target'], bins=50,  color='blue')\n",
    "plt.title('Distribution of Target Variable')\n",
    "plt.xlabel('Target Value')\n",
    "plt.ylabel('Frequency')\n",
    "plt.xlim(-100, 100)\n",
    "plt.show()\n",
    "\n",
    "##The target variable appears to be normally distributed."
   ]
  },
  {
   "cell_type": "code",
   "execution_count": 14,
   "metadata": {
    "colab": {
     "base_uri": "https://localhost:8080/"
    },
    "id": "sz2gxmdlEsFr",
    "outputId": "ffbcfd54-70d2-4e61-dca4-bae4a88cb256"
   },
   "outputs": [
    {
     "name": "stdout",
     "output_type": "stream",
     "text": [
      "[  0   1   2   3   4   5   6   7   8   9  10  11  12  13  14  15  16  17\n",
      "  18  19  20  21  22  23  24  25  26  27  28  29  30  31  32  33  34  35\n",
      "  36  37  38  39  40  41  42  43  44  45  46  47  48  49  50  51  52  53\n",
      "  54  55  56  57  58  59  60  61  62  63  64  65  66  67  68  70  71  72\n",
      "  73  74  75  76  77  80  81  82  83  84  85  86  87  88  89  90  91  92\n",
      "  93  94  95  96  97  98  99 100 101 103 104 105 106 107 108 109 110 111\n",
      " 112 113 114 115 116 117 118 119 120 121 122 123 124 125 126 127 128 129\n",
      " 130 131 132 133 134 136 137 138 139 140 141 142 143 144 145 146 147 148\n",
      " 149 151 152 154 155 157 158 159 160 161 162 163 164 165 166 167 168 169\n",
      " 170 171 172 173 174 175 176 177 178 179 180 181 182 183 184 185 186 187\n",
      " 188 189 190 191 192 193 194 195 196 197 198  78  69 156 150 153 199  79\n",
      " 135 102]\n"
     ]
    }
   ],
   "source": [
    "## We can also see how many unique dates we have in the data set and also how many unique stocks are included in the data set.\n",
    "print(train_df['stock_id'].unique())"
   ]
  },
  {
   "cell_type": "code",
   "execution_count": 15,
   "metadata": {
    "colab": {
     "base_uri": "https://localhost:8080/"
    },
    "id": "5TYWqTYqFMe2",
    "outputId": "dac8842c-a767-479f-a92e-a184a429a337"
   },
   "outputs": [
    {
     "data": {
      "text/plain": [
       "481"
      ]
     },
     "execution_count": 15,
     "metadata": {},
     "output_type": "execute_result"
    }
   ],
   "source": [
    "len(train_df['date_id'].unique())"
   ]
  },
  {
   "cell_type": "code",
   "execution_count": 16,
   "metadata": {
    "colab": {
     "base_uri": "https://localhost:8080/"
    },
    "id": "0pplt-vxFF4W",
    "outputId": "a04f7859-e005-4f23-8b6f-9c2129631e6a"
   },
   "outputs": [
    {
     "name": "stdout",
     "output_type": "stream",
     "text": [
      "200\n"
     ]
    }
   ],
   "source": [
    "print(len(train_df['stock_id'].unique()))"
   ]
  },
  {
   "cell_type": "code",
   "execution_count": 17,
   "metadata": {
    "colab": {
     "base_uri": "https://localhost:8080/",
     "height": 697
    },
    "id": "AJCq2pCjFaxL",
    "outputId": "e6961066-e31a-488f-88eb-ae0a76145e69"
   },
   "outputs": [
    {
     "data": {
      "text/html": [
       "<div>\n",
       "<style scoped>\n",
       "    .dataframe tbody tr th:only-of-type {\n",
       "        vertical-align: middle;\n",
       "    }\n",
       "\n",
       "    .dataframe tbody tr th {\n",
       "        vertical-align: top;\n",
       "    }\n",
       "\n",
       "    .dataframe thead th {\n",
       "        text-align: right;\n",
       "    }\n",
       "</style>\n",
       "<table border=\"1\" class=\"dataframe\">\n",
       "  <thead>\n",
       "    <tr style=\"text-align: right;\">\n",
       "      <th></th>\n",
       "      <th>index</th>\n",
       "      <th>stock_id</th>\n",
       "      <th>date_id</th>\n",
       "      <th>seconds_in_bucket</th>\n",
       "      <th>imbalance_size</th>\n",
       "      <th>imbalance_buy_sell_flag</th>\n",
       "      <th>reference_price</th>\n",
       "      <th>matched_size</th>\n",
       "      <th>far_price</th>\n",
       "      <th>near_price</th>\n",
       "      <th>bid_price</th>\n",
       "      <th>bid_size</th>\n",
       "      <th>ask_price</th>\n",
       "      <th>ask_size</th>\n",
       "      <th>wap</th>\n",
       "      <th>target</th>\n",
       "      <th>time_id</th>\n",
       "      <th>row_id</th>\n",
       "    </tr>\n",
       "  </thead>\n",
       "  <tbody>\n",
       "    <tr>\n",
       "      <th>0</th>\n",
       "      <td>0</td>\n",
       "      <td>0</td>\n",
       "      <td>0</td>\n",
       "      <td>0</td>\n",
       "      <td>3180602.69</td>\n",
       "      <td>1</td>\n",
       "      <td>0.999812</td>\n",
       "      <td>13380276.64</td>\n",
       "      <td>0.0</td>\n",
       "      <td>0.0</td>\n",
       "      <td>0.999812</td>\n",
       "      <td>60651.50</td>\n",
       "      <td>1.000026</td>\n",
       "      <td>8493.03</td>\n",
       "      <td>1.0</td>\n",
       "      <td>-3.029704</td>\n",
       "      <td>0</td>\n",
       "      <td>0_0_0</td>\n",
       "    </tr>\n",
       "    <tr>\n",
       "      <th>1</th>\n",
       "      <td>1</td>\n",
       "      <td>1</td>\n",
       "      <td>0</td>\n",
       "      <td>0</td>\n",
       "      <td>166603.91</td>\n",
       "      <td>-1</td>\n",
       "      <td>0.999896</td>\n",
       "      <td>1642214.25</td>\n",
       "      <td>0.0</td>\n",
       "      <td>0.0</td>\n",
       "      <td>0.999896</td>\n",
       "      <td>3233.04</td>\n",
       "      <td>1.000660</td>\n",
       "      <td>20605.09</td>\n",
       "      <td>1.0</td>\n",
       "      <td>-5.519986</td>\n",
       "      <td>0</td>\n",
       "      <td>0_0_1</td>\n",
       "    </tr>\n",
       "    <tr>\n",
       "      <th>2</th>\n",
       "      <td>2</td>\n",
       "      <td>2</td>\n",
       "      <td>0</td>\n",
       "      <td>0</td>\n",
       "      <td>302879.87</td>\n",
       "      <td>-1</td>\n",
       "      <td>0.999561</td>\n",
       "      <td>1819368.03</td>\n",
       "      <td>0.0</td>\n",
       "      <td>0.0</td>\n",
       "      <td>0.999403</td>\n",
       "      <td>37956.00</td>\n",
       "      <td>1.000298</td>\n",
       "      <td>18995.00</td>\n",
       "      <td>1.0</td>\n",
       "      <td>-8.389950</td>\n",
       "      <td>0</td>\n",
       "      <td>0_0_2</td>\n",
       "    </tr>\n",
       "    <tr>\n",
       "      <th>3</th>\n",
       "      <td>3</td>\n",
       "      <td>3</td>\n",
       "      <td>0</td>\n",
       "      <td>0</td>\n",
       "      <td>11917682.27</td>\n",
       "      <td>-1</td>\n",
       "      <td>1.000171</td>\n",
       "      <td>18389745.62</td>\n",
       "      <td>0.0</td>\n",
       "      <td>0.0</td>\n",
       "      <td>0.999999</td>\n",
       "      <td>2324.90</td>\n",
       "      <td>1.000214</td>\n",
       "      <td>479032.40</td>\n",
       "      <td>1.0</td>\n",
       "      <td>-4.010200</td>\n",
       "      <td>0</td>\n",
       "      <td>0_0_3</td>\n",
       "    </tr>\n",
       "    <tr>\n",
       "      <th>4</th>\n",
       "      <td>4</td>\n",
       "      <td>4</td>\n",
       "      <td>0</td>\n",
       "      <td>0</td>\n",
       "      <td>447549.96</td>\n",
       "      <td>-1</td>\n",
       "      <td>0.999532</td>\n",
       "      <td>17860614.95</td>\n",
       "      <td>0.0</td>\n",
       "      <td>0.0</td>\n",
       "      <td>0.999394</td>\n",
       "      <td>16485.54</td>\n",
       "      <td>1.000016</td>\n",
       "      <td>434.10</td>\n",
       "      <td>1.0</td>\n",
       "      <td>-7.349849</td>\n",
       "      <td>0</td>\n",
       "      <td>0_0_4</td>\n",
       "    </tr>\n",
       "    <tr>\n",
       "      <th>5</th>\n",
       "      <td>5</td>\n",
       "      <td>5</td>\n",
       "      <td>0</td>\n",
       "      <td>0</td>\n",
       "      <td>0.00</td>\n",
       "      <td>0</td>\n",
       "      <td>1.000635</td>\n",
       "      <td>13552875.92</td>\n",
       "      <td>0.0</td>\n",
       "      <td>0.0</td>\n",
       "      <td>0.999779</td>\n",
       "      <td>1962.72</td>\n",
       "      <td>1.000635</td>\n",
       "      <td>5647.65</td>\n",
       "      <td>1.0</td>\n",
       "      <td>6.779432</td>\n",
       "      <td>0</td>\n",
       "      <td>0_0_5</td>\n",
       "    </tr>\n",
       "    <tr>\n",
       "      <th>6</th>\n",
       "      <td>6</td>\n",
       "      <td>6</td>\n",
       "      <td>0</td>\n",
       "      <td>0</td>\n",
       "      <td>969969.40</td>\n",
       "      <td>1</td>\n",
       "      <td>1.000115</td>\n",
       "      <td>3647503.98</td>\n",
       "      <td>0.0</td>\n",
       "      <td>0.0</td>\n",
       "      <td>0.999506</td>\n",
       "      <td>6663.16</td>\n",
       "      <td>1.000283</td>\n",
       "      <td>3810.48</td>\n",
       "      <td>1.0</td>\n",
       "      <td>-2.499819</td>\n",
       "      <td>0</td>\n",
       "      <td>0_0_6</td>\n",
       "    </tr>\n",
       "    <tr>\n",
       "      <th>7</th>\n",
       "      <td>7</td>\n",
       "      <td>7</td>\n",
       "      <td>0</td>\n",
       "      <td>0</td>\n",
       "      <td>9412959.10</td>\n",
       "      <td>1</td>\n",
       "      <td>0.999818</td>\n",
       "      <td>21261245.87</td>\n",
       "      <td>0.0</td>\n",
       "      <td>0.0</td>\n",
       "      <td>0.999741</td>\n",
       "      <td>5139.20</td>\n",
       "      <td>1.000130</td>\n",
       "      <td>2570.60</td>\n",
       "      <td>1.0</td>\n",
       "      <td>-1.959801</td>\n",
       "      <td>0</td>\n",
       "      <td>0_0_7</td>\n",
       "    </tr>\n",
       "    <tr>\n",
       "      <th>8</th>\n",
       "      <td>8</td>\n",
       "      <td>8</td>\n",
       "      <td>0</td>\n",
       "      <td>0</td>\n",
       "      <td>2394875.85</td>\n",
       "      <td>1</td>\n",
       "      <td>0.999916</td>\n",
       "      <td>9473209.08</td>\n",
       "      <td>0.0</td>\n",
       "      <td>0.0</td>\n",
       "      <td>0.999022</td>\n",
       "      <td>52011.60</td>\n",
       "      <td>1.000041</td>\n",
       "      <td>2169.36</td>\n",
       "      <td>1.0</td>\n",
       "      <td>-5.970001</td>\n",
       "      <td>0</td>\n",
       "      <td>0_0_8</td>\n",
       "    </tr>\n",
       "    <tr>\n",
       "      <th>9</th>\n",
       "      <td>9</td>\n",
       "      <td>9</td>\n",
       "      <td>0</td>\n",
       "      <td>0</td>\n",
       "      <td>3039700.65</td>\n",
       "      <td>-1</td>\n",
       "      <td>1.000969</td>\n",
       "      <td>6248958.45</td>\n",
       "      <td>0.0</td>\n",
       "      <td>0.0</td>\n",
       "      <td>0.999354</td>\n",
       "      <td>6191.00</td>\n",
       "      <td>1.000646</td>\n",
       "      <td>6199.00</td>\n",
       "      <td>1.0</td>\n",
       "      <td>7.970333</td>\n",
       "      <td>0</td>\n",
       "      <td>0_0_9</td>\n",
       "    </tr>\n",
       "    <tr>\n",
       "      <th>10</th>\n",
       "      <td>10</td>\n",
       "      <td>10</td>\n",
       "      <td>0</td>\n",
       "      <td>0</td>\n",
       "      <td>10482752.19</td>\n",
       "      <td>-1</td>\n",
       "      <td>1.001374</td>\n",
       "      <td>8839457.10</td>\n",
       "      <td>0.0</td>\n",
       "      <td>0.0</td>\n",
       "      <td>0.999885</td>\n",
       "      <td>18802.00</td>\n",
       "      <td>1.001321</td>\n",
       "      <td>217098.37</td>\n",
       "      <td>1.0</td>\n",
       "      <td>5.350113</td>\n",
       "      <td>0</td>\n",
       "      <td>0_0_10</td>\n",
       "    </tr>\n",
       "    <tr>\n",
       "      <th>11</th>\n",
       "      <td>11</td>\n",
       "      <td>11</td>\n",
       "      <td>0</td>\n",
       "      <td>0</td>\n",
       "      <td>1506120.20</td>\n",
       "      <td>-1</td>\n",
       "      <td>0.999968</td>\n",
       "      <td>2001112.44</td>\n",
       "      <td>0.0</td>\n",
       "      <td>0.0</td>\n",
       "      <td>0.999840</td>\n",
       "      <td>1174.45</td>\n",
       "      <td>1.000351</td>\n",
       "      <td>2585.11</td>\n",
       "      <td>1.0</td>\n",
       "      <td>2.559423</td>\n",
       "      <td>0</td>\n",
       "      <td>0_0_11</td>\n",
       "    </tr>\n",
       "    <tr>\n",
       "      <th>12</th>\n",
       "      <td>12</td>\n",
       "      <td>12</td>\n",
       "      <td>0</td>\n",
       "      <td>0</td>\n",
       "      <td>11739945.44</td>\n",
       "      <td>1</td>\n",
       "      <td>0.999794</td>\n",
       "      <td>13597118.70</td>\n",
       "      <td>0.0</td>\n",
       "      <td>0.0</td>\n",
       "      <td>0.999794</td>\n",
       "      <td>33221.00</td>\n",
       "      <td>1.000296</td>\n",
       "      <td>47824.00</td>\n",
       "      <td>1.0</td>\n",
       "      <td>8.399487</td>\n",
       "      <td>0</td>\n",
       "      <td>0_0_12</td>\n",
       "    </tr>\n",
       "    <tr>\n",
       "      <th>13</th>\n",
       "      <td>13</td>\n",
       "      <td>13</td>\n",
       "      <td>0</td>\n",
       "      <td>0</td>\n",
       "      <td>5749286.01</td>\n",
       "      <td>1</td>\n",
       "      <td>0.998995</td>\n",
       "      <td>7039173.61</td>\n",
       "      <td>0.0</td>\n",
       "      <td>0.0</td>\n",
       "      <td>0.999074</td>\n",
       "      <td>12327.73</td>\n",
       "      <td>1.000096</td>\n",
       "      <td>1272.20</td>\n",
       "      <td>1.0</td>\n",
       "      <td>-10.750294</td>\n",
       "      <td>0</td>\n",
       "      <td>0_0_13</td>\n",
       "    </tr>\n",
       "    <tr>\n",
       "      <th>14</th>\n",
       "      <td>14</td>\n",
       "      <td>14</td>\n",
       "      <td>0</td>\n",
       "      <td>0</td>\n",
       "      <td>8899495.49</td>\n",
       "      <td>1</td>\n",
       "      <td>1.000495</td>\n",
       "      <td>39020484.94</td>\n",
       "      <td>0.0</td>\n",
       "      <td>0.0</td>\n",
       "      <td>0.999976</td>\n",
       "      <td>4321.24</td>\n",
       "      <td>1.001013</td>\n",
       "      <td>185388.00</td>\n",
       "      <td>1.0</td>\n",
       "      <td>2.319813</td>\n",
       "      <td>0</td>\n",
       "      <td>0_0_14</td>\n",
       "    </tr>\n",
       "    <tr>\n",
       "      <th>15</th>\n",
       "      <td>15</td>\n",
       "      <td>15</td>\n",
       "      <td>0</td>\n",
       "      <td>0</td>\n",
       "      <td>4469771.00</td>\n",
       "      <td>1</td>\n",
       "      <td>0.999403</td>\n",
       "      <td>1765835.46</td>\n",
       "      <td>0.0</td>\n",
       "      <td>0.0</td>\n",
       "      <td>0.999334</td>\n",
       "      <td>223339.68</td>\n",
       "      <td>1.000023</td>\n",
       "      <td>7551.44</td>\n",
       "      <td>1.0</td>\n",
       "      <td>1.720190</td>\n",
       "      <td>0</td>\n",
       "      <td>0_0_15</td>\n",
       "    </tr>\n",
       "    <tr>\n",
       "      <th>16</th>\n",
       "      <td>16</td>\n",
       "      <td>16</td>\n",
       "      <td>0</td>\n",
       "      <td>0</td>\n",
       "      <td>472499.39</td>\n",
       "      <td>-1</td>\n",
       "      <td>0.999258</td>\n",
       "      <td>3438806.60</td>\n",
       "      <td>0.0</td>\n",
       "      <td>0.0</td>\n",
       "      <td>0.998948</td>\n",
       "      <td>9879.12</td>\n",
       "      <td>1.000058</td>\n",
       "      <td>549.45</td>\n",
       "      <td>1.0</td>\n",
       "      <td>-8.170009</td>\n",
       "      <td>0</td>\n",
       "      <td>0_0_16</td>\n",
       "    </tr>\n",
       "    <tr>\n",
       "      <th>17</th>\n",
       "      <td>17</td>\n",
       "      <td>17</td>\n",
       "      <td>0</td>\n",
       "      <td>0</td>\n",
       "      <td>12411362.37</td>\n",
       "      <td>-1</td>\n",
       "      <td>1.000966</td>\n",
       "      <td>27288881.25</td>\n",
       "      <td>0.0</td>\n",
       "      <td>0.0</td>\n",
       "      <td>0.999028</td>\n",
       "      <td>12438.00</td>\n",
       "      <td>1.000648</td>\n",
       "      <td>8305.44</td>\n",
       "      <td>1.0</td>\n",
       "      <td>-3.589988</td>\n",
       "      <td>0</td>\n",
       "      <td>0_0_17</td>\n",
       "    </tr>\n",
       "    <tr>\n",
       "      <th>18</th>\n",
       "      <td>18</td>\n",
       "      <td>18</td>\n",
       "      <td>0</td>\n",
       "      <td>0</td>\n",
       "      <td>516904.04</td>\n",
       "      <td>-1</td>\n",
       "      <td>1.000029</td>\n",
       "      <td>1263451.92</td>\n",
       "      <td>0.0</td>\n",
       "      <td>0.0</td>\n",
       "      <td>0.999847</td>\n",
       "      <td>4271.28</td>\n",
       "      <td>1.000212</td>\n",
       "      <td>5916.24</td>\n",
       "      <td>1.0</td>\n",
       "      <td>-11.439919</td>\n",
       "      <td>0</td>\n",
       "      <td>0_0_18</td>\n",
       "    </tr>\n",
       "    <tr>\n",
       "      <th>19</th>\n",
       "      <td>19</td>\n",
       "      <td>19</td>\n",
       "      <td>0</td>\n",
       "      <td>0</td>\n",
       "      <td>0.00</td>\n",
       "      <td>0</td>\n",
       "      <td>0.999387</td>\n",
       "      <td>2815450.75</td>\n",
       "      <td>0.0</td>\n",
       "      <td>0.0</td>\n",
       "      <td>0.999218</td>\n",
       "      <td>17775.00</td>\n",
       "      <td>1.001298</td>\n",
       "      <td>29567.92</td>\n",
       "      <td>1.0</td>\n",
       "      <td>4.299879</td>\n",
       "      <td>0</td>\n",
       "      <td>0_0_19</td>\n",
       "    </tr>\n",
       "  </tbody>\n",
       "</table>\n",
       "</div>"
      ],
      "text/plain": [
       "    index  stock_id  date_id  seconds_in_bucket  imbalance_size  \\\n",
       "0       0         0        0                  0      3180602.69   \n",
       "1       1         1        0                  0       166603.91   \n",
       "2       2         2        0                  0       302879.87   \n",
       "3       3         3        0                  0     11917682.27   \n",
       "4       4         4        0                  0       447549.96   \n",
       "5       5         5        0                  0            0.00   \n",
       "6       6         6        0                  0       969969.40   \n",
       "7       7         7        0                  0      9412959.10   \n",
       "8       8         8        0                  0      2394875.85   \n",
       "9       9         9        0                  0      3039700.65   \n",
       "10     10        10        0                  0     10482752.19   \n",
       "11     11        11        0                  0      1506120.20   \n",
       "12     12        12        0                  0     11739945.44   \n",
       "13     13        13        0                  0      5749286.01   \n",
       "14     14        14        0                  0      8899495.49   \n",
       "15     15        15        0                  0      4469771.00   \n",
       "16     16        16        0                  0       472499.39   \n",
       "17     17        17        0                  0     12411362.37   \n",
       "18     18        18        0                  0       516904.04   \n",
       "19     19        19        0                  0            0.00   \n",
       "\n",
       "    imbalance_buy_sell_flag  reference_price  matched_size  far_price  \\\n",
       "0                         1         0.999812   13380276.64        0.0   \n",
       "1                        -1         0.999896    1642214.25        0.0   \n",
       "2                        -1         0.999561    1819368.03        0.0   \n",
       "3                        -1         1.000171   18389745.62        0.0   \n",
       "4                        -1         0.999532   17860614.95        0.0   \n",
       "5                         0         1.000635   13552875.92        0.0   \n",
       "6                         1         1.000115    3647503.98        0.0   \n",
       "7                         1         0.999818   21261245.87        0.0   \n",
       "8                         1         0.999916    9473209.08        0.0   \n",
       "9                        -1         1.000969    6248958.45        0.0   \n",
       "10                       -1         1.001374    8839457.10        0.0   \n",
       "11                       -1         0.999968    2001112.44        0.0   \n",
       "12                        1         0.999794   13597118.70        0.0   \n",
       "13                        1         0.998995    7039173.61        0.0   \n",
       "14                        1         1.000495   39020484.94        0.0   \n",
       "15                        1         0.999403    1765835.46        0.0   \n",
       "16                       -1         0.999258    3438806.60        0.0   \n",
       "17                       -1         1.000966   27288881.25        0.0   \n",
       "18                       -1         1.000029    1263451.92        0.0   \n",
       "19                        0         0.999387    2815450.75        0.0   \n",
       "\n",
       "    near_price  bid_price   bid_size  ask_price   ask_size  wap     target  \\\n",
       "0          0.0   0.999812   60651.50   1.000026    8493.03  1.0  -3.029704   \n",
       "1          0.0   0.999896    3233.04   1.000660   20605.09  1.0  -5.519986   \n",
       "2          0.0   0.999403   37956.00   1.000298   18995.00  1.0  -8.389950   \n",
       "3          0.0   0.999999    2324.90   1.000214  479032.40  1.0  -4.010200   \n",
       "4          0.0   0.999394   16485.54   1.000016     434.10  1.0  -7.349849   \n",
       "5          0.0   0.999779    1962.72   1.000635    5647.65  1.0   6.779432   \n",
       "6          0.0   0.999506    6663.16   1.000283    3810.48  1.0  -2.499819   \n",
       "7          0.0   0.999741    5139.20   1.000130    2570.60  1.0  -1.959801   \n",
       "8          0.0   0.999022   52011.60   1.000041    2169.36  1.0  -5.970001   \n",
       "9          0.0   0.999354    6191.00   1.000646    6199.00  1.0   7.970333   \n",
       "10         0.0   0.999885   18802.00   1.001321  217098.37  1.0   5.350113   \n",
       "11         0.0   0.999840    1174.45   1.000351    2585.11  1.0   2.559423   \n",
       "12         0.0   0.999794   33221.00   1.000296   47824.00  1.0   8.399487   \n",
       "13         0.0   0.999074   12327.73   1.000096    1272.20  1.0 -10.750294   \n",
       "14         0.0   0.999976    4321.24   1.001013  185388.00  1.0   2.319813   \n",
       "15         0.0   0.999334  223339.68   1.000023    7551.44  1.0   1.720190   \n",
       "16         0.0   0.998948    9879.12   1.000058     549.45  1.0  -8.170009   \n",
       "17         0.0   0.999028   12438.00   1.000648    8305.44  1.0  -3.589988   \n",
       "18         0.0   0.999847    4271.28   1.000212    5916.24  1.0 -11.439919   \n",
       "19         0.0   0.999218   17775.00   1.001298   29567.92  1.0   4.299879   \n",
       "\n",
       "    time_id  row_id  \n",
       "0         0   0_0_0  \n",
       "1         0   0_0_1  \n",
       "2         0   0_0_2  \n",
       "3         0   0_0_3  \n",
       "4         0   0_0_4  \n",
       "5         0   0_0_5  \n",
       "6         0   0_0_6  \n",
       "7         0   0_0_7  \n",
       "8         0   0_0_8  \n",
       "9         0   0_0_9  \n",
       "10        0  0_0_10  \n",
       "11        0  0_0_11  \n",
       "12        0  0_0_12  \n",
       "13        0  0_0_13  \n",
       "14        0  0_0_14  \n",
       "15        0  0_0_15  \n",
       "16        0  0_0_16  \n",
       "17        0  0_0_17  \n",
       "18        0  0_0_18  \n",
       "19        0  0_0_19  "
      ]
     },
     "execution_count": 17,
     "metadata": {},
     "output_type": "execute_result"
    }
   ],
   "source": [
    "'''\n",
    "There are 200 unique stocks in the training data set, and 481 different date IDs.\n",
    "Note that some rows may contain the same date_id and time_id, however different stock ID's.\n",
    "This represents the \"concurrent\" price of each stock at each give period of time.\n",
    "We can visualize this by looking at the first few rows of data.\n",
    "'''\n",
    "train_df.head(20)"
   ]
  },
  {
   "cell_type": "code",
   "execution_count": 18,
   "metadata": {
    "colab": {
     "base_uri": "https://localhost:8080/",
     "height": 735
    },
    "id": "W7lAtAVcF0Ts",
    "outputId": "c40a7e25-3b10-4abd-b9ff-d226a2b92a2a"
   },
   "outputs": [
    {
     "name": "stderr",
     "output_type": "stream",
     "text": [
      "/tmp/ipykernel_1199/2084734865.py:15: FutureWarning: DataFrame.applymap has been deprecated. Use DataFrame.map instead.\n",
      "  corr_matrix = corr_matrix.applymap(lambda x: np.nan if abs(x) < 1e-10 else x)\n"
     ]
    },
    {
     "data": {
      "image/png": "[encoded data removed]",
      "text/plain": [
       "<Figure size 800x600 with 2 Axes>"
      ]
     },
     "metadata": {},
     "output_type": "display_data"
    },
    {
     "data": {
      "text/plain": [
       "'\\nThe correlation analysis which showed that price features are highly correlated.\\nWe would like to reduce the \"noise\" in the model by removing correlated features.\\n\\nThe reference price, ask price, bid price and wap (weight average price) are highly correlated at 95%+ for all.\\n'"
      ]
     },
     "execution_count": 18,
     "metadata": {},
     "output_type": "execute_result"
    }
   ],
   "source": [
    "##finding correlation btw predictors\n",
    "\n",
    "columns_to_remove = ['stock_id', 'date_id', 'time_id', 'row_id']\n",
    "# Remove the specified columns\n",
    "corr_df = train_df.drop(columns=columns_to_remove)\n",
    "\n",
    "# Calculate the correlation matrix\n",
    "corr_matrix = corr_df.corr()\n",
    "# Create a lower triangular mask\n",
    "mask = ~np.tri(*corr_matrix.values.shape, k=-1, dtype=bool)\n",
    "\n",
    "# Apply the mask to set the upper triangle values to NaN\n",
    "corr_matrix = pd.DataFrame(corr_matrix.values * mask, columns=corr_matrix.columns, index=corr_matrix.index)\n",
    "# Replace very small values with NaN\n",
    "corr_matrix = corr_matrix.applymap(lambda x: np.nan if abs(x) < 1e-10 else x)\n",
    "\n",
    "# Create a heatmap using seaborn\n",
    "plt.figure(figsize=(8, 6))\n",
    "sns.heatmap(corr_matrix, cmap='coolwarm', annot=True, fmt=\".2f\", vmin=-1, vmax=1)\n",
    "plt.title(\"Correlation Heatmap\")\n",
    "plt.show()\n",
    "\n",
    "'''\n",
    "The correlation analysis which showed that price features are highly correlated.\n",
    "We would like to reduce the \"noise\" in the model by removing correlated features.\n",
    "\n",
    "The reference price, ask price, bid price and wap (weight average price) are highly correlated at 95%+ for all.\n",
    "'''"
   ]
  },
  {
   "cell_type": "markdown",
   "metadata": {
    "id": "hJHV61Z_MlWw"
   },
   "source": [
    "Removing outliers"
   ]
  },
  {
   "cell_type": "code",
   "execution_count": 19,
   "metadata": {
    "id": "QQqDbhDOMdnR"
   },
   "outputs": [],
   "source": [
    "#It is best practice to remove outliers. Lets see if removing outliers will improve the model performance.\n",
    "# Specify the column you want to filter\n",
    "column_name = 'target'\n",
    "\n",
    "# Adjust these percentiles according to your preference\n",
    "lower_percentile = 5\n",
    "upper_percentile = 95\n",
    "\n",
    "# Calculate lower and upper bounds\n",
    "lower_bound = np.percentile(train_df[column_name], lower_percentile)\n",
    "upper_bound = np.percentile(train_df[column_name], upper_percentile)\n",
    "\n",
    "# Filter the DataFrame based on the bounds\n",
    "train_df = train_df[(train_df[column_name] > lower_bound) & (train_df[column_name] < upper_bound)]\n"
   ]
  },
  {
   "cell_type": "markdown",
   "metadata": {
    "id": "NQ4dswBykogb"
   },
   "source": [
    "Kalman filtering"
   ]
  },
  {
   "cell_type": "code",
   "execution_count": 20,
   "metadata": {
    "id": "Bqdqdr-ckogb"
   },
   "outputs": [],
   "source": [
    "##Calls upon previous function to kalman filter each row in the data set. Will filter the ask, bid, and wap prices and\n",
    "##then make a new data set with all other entries.\n",
    "#rslt_df = train_df.sort_values(by=['stock_id', 'date_id', \"seconds_in_bucket\"]).reset_index(drop = True)"
   ]
  },
  {
   "cell_type": "code",
   "execution_count": 21,
   "metadata": {
    "colab": {
     "base_uri": "https://localhost:8080/",
     "height": 143
    },
    "id": "7bnmVQMukogb",
    "outputId": "f4fc2f3b-bb26-47ba-de2d-43e1e0769f8c"
   },
   "outputs": [
    {
     "data": {
      "text/plain": [
       "'\\nfrom tqdm import tqdm\\ndef kalman_smoother(stock_id: int, date_id: int, data: pd.DataFrame = rslt_df, QRP_noise:list[float] = [0.1, 5, 0.1]):\\n  subset = data.loc[(data[\\'stock_id\\'] == stock_id) & (data[\\'date_id\\'] == date_id), [\\'seconds_in_bucket\\',\\'bid_price\\',\"ask_price\",\"wap\"]]\\n  train_data = subset.set_index(\"seconds_in_bucket\")\\n  train_data1= subset.replace(0, np.nan)\\n\\n  # Bayesian Kalman filter parameters\\n  Q_noise, R_noise, P_noise = QRP_noise\\n  Q = np.eye(3) * Q_noise  # Process noise covariance matrix\\n  R = np.eye(3) * R_noise   # Measurement noise covariance matrix\\n  H = np.eye(3)         # Measurement function matrix\\n  I = np.eye(3)         # Identity matrix\\n\\n  # Initialize state estimate and covariance matrix\\n  x_hat = train_data.loc[0, [\\'bid_price\\', \\'ask_price\\', \\'wap\\']].values.reshape((3, 1))\\n  P = np.eye(3) * P_noise  # Initial covariance matrix\\n\\n  # Kalman filtering\\n  filtered_data = []\\n  for _, row in train_data.iterrows():\\n      z = row.values.reshape(-1, 1)  # Measurement vector\\n\\n      # Prediction step\\n      x_hat_minus = x_hat\\n      P_minus = P + Q\\n\\n      # Update step\\n      K = P_minus @ H.T @ np.linalg.inv(H @ P_minus @ H.T + R)  # Kalman gain\\n      x_hat = x_hat_minus + K @ (z - H @ x_hat_minus)\\n      P = (I - K @ H) @ P_minus\\n\\n      filtered_data.append(x_hat.flatten())\\n\\n  # Convert filtered data to DataFrame\\n  filtered_df = pd.DataFrame(filtered_data, columns=[\\'filtered_bid_price\\', \\'filtered_asking_price\\', \\'filtered_wap\\'])\\n  return filtered_df\\n'"
      ]
     },
     "execution_count": 21,
     "metadata": {},
     "output_type": "execute_result"
    }
   ],
   "source": [
    "'''\n",
    "from tqdm import tqdm\n",
    "def kalman_smoother(stock_id: int, date_id: int, data: pd.DataFrame = rslt_df, QRP_noise:list[float] = [0.1, 5, 0.1]):\n",
    "  subset = data.loc[(data['stock_id'] == stock_id) & (data['date_id'] == date_id), ['seconds_in_bucket','bid_price',\"ask_price\",\"wap\"]]\n",
    "  train_data = subset.set_index(\"seconds_in_bucket\")\n",
    "  train_data1= subset.replace(0, np.nan)\n",
    "\n",
    "  # Bayesian Kalman filter parameters\n",
    "  Q_noise, R_noise, P_noise = QRP_noise\n",
    "  Q = np.eye(3) * Q_noise  # Process noise covariance matrix\n",
    "  R = np.eye(3) * R_noise   # Measurement noise covariance matrix\n",
    "  H = np.eye(3)         # Measurement function matrix\n",
    "  I = np.eye(3)         # Identity matrix\n",
    "\n",
    "  # Initialize state estimate and covariance matrix\n",
    "  x_hat = train_data.loc[0, ['bid_price', 'ask_price', 'wap']].values.reshape((3, 1))\n",
    "  P = np.eye(3) * P_noise  # Initial covariance matrix\n",
    "\n",
    "  # Kalman filtering\n",
    "  filtered_data = []\n",
    "  for _, row in train_data.iterrows():\n",
    "      z = row.values.reshape(-1, 1)  # Measurement vector\n",
    "\n",
    "      # Prediction step\n",
    "      x_hat_minus = x_hat\n",
    "      P_minus = P + Q\n",
    "\n",
    "      # Update step\n",
    "      K = P_minus @ H.T @ np.linalg.inv(H @ P_minus @ H.T + R)  # Kalman gain\n",
    "      x_hat = x_hat_minus + K @ (z - H @ x_hat_minus)\n",
    "      P = (I - K @ H) @ P_minus\n",
    "\n",
    "      filtered_data.append(x_hat.flatten())\n",
    "\n",
    "  # Convert filtered data to DataFrame\n",
    "  filtered_df = pd.DataFrame(filtered_data, columns=['filtered_bid_price', 'filtered_asking_price', 'filtered_wap'])\n",
    "  return filtered_df\n",
    "'''"
   ]
  },
  {
   "cell_type": "code",
   "execution_count": 22,
   "metadata": {
    "colab": {
     "base_uri": "https://localhost:8080/",
     "height": 125
    },
    "id": "xyyEPm8qkogc",
    "outputId": "05c8763f-1252-4af2-fc34-ce2b3790c7d1"
   },
   "outputs": [
    {
     "data": {
      "text/plain": [
       "\"\\ndef run_all_filterings(data: pd.DataFrame = rslt_df, QRP_noise:list[float] = [0.1, 1, 0.1]):\\n  unq_stock = data['stock_id'].unique()\\n  unq_date = data['date_id'].unique()\\n  frames = []\\n  for us in tqdm(unq_stock):\\n    for ud in unq_date:\\n      try:\\n        filtered_df = kalman_smoother(us, ud, data = data, QRP_noise=QRP_noise)\\n        filtered_df['stock_id'] = us\\n        filtered_df['date_id'] = ud\\n        frames.append(filtered_df)\\n      except KeyError as e:\\n        continue\\n  filtered_concat = pd.concat(frames, axis = 0, ignore_index=True)\\n  filtered_concat['seconds_in_bucket'] = data['seconds_in_bucket']\\n  final_filtered = pd.merge(filtered_concat, data, on = ['stock_id', 'date_id', 'seconds_in_bucket'], how = 'left')\\n  final_filtered = final_filtered.drop(['bid_price', 'ask_price', 'wap'], axis = 1)\\n  return final_filtered\\n\""
      ]
     },
     "execution_count": 22,
     "metadata": {},
     "output_type": "execute_result"
    }
   ],
   "source": [
    "'''\n",
    "def run_all_filterings(data: pd.DataFrame = rslt_df, QRP_noise:list[float] = [0.1, 1, 0.1]):\n",
    "  unq_stock = data['stock_id'].unique()\n",
    "  unq_date = data['date_id'].unique()\n",
    "  frames = []\n",
    "  for us in tqdm(unq_stock):\n",
    "    for ud in unq_date:\n",
    "      try:\n",
    "        filtered_df = kalman_smoother(us, ud, data = data, QRP_noise=QRP_noise)\n",
    "        filtered_df['stock_id'] = us\n",
    "        filtered_df['date_id'] = ud\n",
    "        frames.append(filtered_df)\n",
    "      except KeyError as e:\n",
    "        continue\n",
    "  filtered_concat = pd.concat(frames, axis = 0, ignore_index=True)\n",
    "  filtered_concat['seconds_in_bucket'] = data['seconds_in_bucket']\n",
    "  final_filtered = pd.merge(filtered_concat, data, on = ['stock_id', 'date_id', 'seconds_in_bucket'], how = 'left')\n",
    "  final_filtered = final_filtered.drop(['bid_price', 'ask_price', 'wap'], axis = 1)\n",
    "  return final_filtered\n",
    "'''"
   ]
  },
  {
   "cell_type": "code",
   "execution_count": 23,
   "metadata": {
    "id": "kxO9S4bwkogc"
   },
   "outputs": [],
   "source": [
    "#filtered_frames = run_all_filterings()\n",
    "#filtered_frames"
   ]
  },
  {
   "cell_type": "code",
   "execution_count": 24,
   "metadata": {
    "id": "erotx7Lkkogc"
   },
   "outputs": [],
   "source": [
    "#filtered_frames.isna().sum(axis=0)"
   ]
  },
  {
   "cell_type": "code",
   "execution_count": 25,
   "metadata": {
    "id": "N2blfzRlkogc"
   },
   "outputs": [],
   "source": [
    "#filtered_frames.dropna(inplace = True)\n",
    "#filtered_frames.isna().sum(axis=0)"
   ]
  },
  {
   "cell_type": "code",
   "execution_count": 26,
   "metadata": {
    "id": "0T9kaA5yMvVl"
   },
   "outputs": [],
   "source": [
    "#train_df=filtered_frames\n",
    "X = train_df.drop('target', axis=1)  # Features\n",
    "y = train_df['target']  # Target variable\n",
    "\n",
    "# Split the dataset into training and testing sets\n",
    "X_train, X_test, y_train, y_test = train_test_split(X, y, test_size=0.2, shuffle = False)"
   ]
  },
  {
   "cell_type": "code",
   "execution_count": 27,
   "metadata": {
    "id": "WWAKQHeKymqz"
   },
   "outputs": [],
   "source": [
    "feature_list = ['seconds_in_bucket', 'imbalance_size', 'imbalance_buy_sell_flag', 'reference_price',\n",
    "               'matched_size', 'bid_price','wap', 'ask_size']\n",
    "from sklearn.preprocessing import StandardScaler\n",
    "scaler = StandardScaler()\n",
    "# Fit the scaler to the training data and transform it\n",
    "X_train_scaled = scaler.fit_transform(X_train[feature_list])\n",
    "X_test_scaled = scaler.transform(X_test[feature_list])"
   ]
  },
  {
   "cell_type": "code",
   "execution_count": 28,
   "metadata": {
    "colab": {
     "base_uri": "https://localhost:8080/",
     "height": 218
    },
    "id": "rhzB0z1kMwnQ",
    "outputId": "5e6653a3-bda2-42f2-90df-114f8c862ab9"
   },
   "outputs": [
    {
     "name": "stdout",
     "output_type": "stream",
     "text": [
      "[LightGBM] [Warning] Unknown parameter: randome_state\n",
      "[LightGBM] [Warning] Unknown parameter: randome_state\n",
      "[LightGBM] [Info] Auto-choosing row-wise multi-threading, the overhead of testing was 0.014733 seconds.\n",
      "You can set `force_row_wise=true` to remove the overhead.\n",
      "And if memory is not enough, you can set `force_col_wise=true`.\n",
      "[LightGBM] [Info] Total Bins 1588\n",
      "[LightGBM] [Info] Number of data points in the train set: 3770881, number of used features: 8\n",
      "[LightGBM] [Info] Start training from score -0.069737\n"
     ]
    },
    {
     "data": {
      "text/html": [
       "<style>#sk-container-id-1 {color: black;}#sk-container-id-1 pre{padding: 0;}#sk-container-id-1 div.sk-toggleable {background-color: white;}#sk-container-id-1 label.sk-toggleable__label {cursor: pointer;display: block;width: 100%;margin-bottom: 0;padding: 0.3em;box-sizing: border-box;text-align: center;}#sk-container-id-1 label.sk-toggleable__label-arrow:before {content: \"▸\";float: left;margin-right: 0.25em;color: #696969;}#sk-container-id-1 label.sk-toggleable__label-arrow:hover:before {color: black;}#sk-container-id-1 div.sk-estimator:hover label.sk-toggleable__label-arrow:before {color: black;}#sk-container-id-1 div.sk-toggleable__content {max-height: 0;max-width: 0;overflow: hidden;text-align: left;background-color: #f0f8ff;}#sk-container-id-1 div.sk-toggleable__content pre {margin: 0.2em;color: black;border-radius: 0.25em;background-color: #f0f8ff;}#sk-container-id-1 input.sk-toggleable__control:checked~div.sk-toggleable__content {max-height: 200px;max-width: 100%;overflow: auto;}#sk-container-id-1 input.sk-toggleable__control:checked~label.sk-toggleable__label-arrow:before {content: \"▾\";}#sk-container-id-1 div.sk-estimator input.sk-toggleable__control:checked~label.sk-toggleable__label {background-color: #d4ebff;}#sk-container-id-1 div.sk-label input.sk-toggleable__control:checked~label.sk-toggleable__label {background-color: #d4ebff;}#sk-container-id-1 input.sk-hidden--visually {border: 0;clip: rect(1px 1px 1px 1px);clip: rect(1px, 1px, 1px, 1px);height: 1px;margin: -1px;overflow: hidden;padding: 0;position: absolute;width: 1px;}#sk-container-id-1 div.sk-estimator {font-family: monospace;background-color: #f0f8ff;border: 1px dotted black;border-radius: 0.25em;box-sizing: border-box;margin-bottom: 0.5em;}#sk-container-id-1 div.sk-estimator:hover {background-color: #d4ebff;}#sk-container-id-1 div.sk-parallel-item::after {content: \"\";width: 100%;border-bottom: 1px solid gray;flex-grow: 1;}#sk-container-id-1 div.sk-label:hover label.sk-toggleable__label {background-color: #d4ebff;}#sk-container-id-1 div.sk-serial::before {content: \"\";position: absolute;border-left: 1px solid gray;box-sizing: border-box;top: 0;bottom: 0;left: 50%;z-index: 0;}#sk-container-id-1 div.sk-serial {display: flex;flex-direction: column;align-items: center;background-color: white;padding-right: 0.2em;padding-left: 0.2em;position: relative;}#sk-container-id-1 div.sk-item {position: relative;z-index: 1;}#sk-container-id-1 div.sk-parallel {display: flex;align-items: stretch;justify-content: center;background-color: white;position: relative;}#sk-container-id-1 div.sk-item::before, #sk-container-id-1 div.sk-parallel-item::before {content: \"\";position: absolute;border-left: 1px solid gray;box-sizing: border-box;top: 0;bottom: 0;left: 50%;z-index: -1;}#sk-container-id-1 div.sk-parallel-item {display: flex;flex-direction: column;z-index: 1;position: relative;background-color: white;}#sk-container-id-1 div.sk-parallel-item:first-child::after {align-self: flex-end;width: 50%;}#sk-container-id-1 div.sk-parallel-item:last-child::after {align-self: flex-start;width: 50%;}#sk-container-id-1 div.sk-parallel-item:only-child::after {width: 0;}#sk-container-id-1 div.sk-dashed-wrapped {border: 1px dashed gray;margin: 0 0.4em 0.5em 0.4em;box-sizing: border-box;padding-bottom: 0.4em;background-color: white;}#sk-container-id-1 div.sk-label label {font-family: monospace;font-weight: bold;display: inline-block;line-height: 1.2em;}#sk-container-id-1 div.sk-label-container {text-align: center;}#sk-container-id-1 div.sk-container {/* jupyter's `normalize.less` sets `[hidden] { display: none; }` but bootstrap.min.css set `[hidden] { display: none !important; }` so we also need the `!important` here to be able to override the default hidden behavior on the sphinx rendered scikit-learn.org. See: https://github.com/scikit-learn/scikit-learn/issues/21755 */display: inline-block !important;position: relative;}#sk-container-id-1 div.sk-text-repr-fallback {display: none;}</style><div id=\"sk-container-id-1\" class=\"sk-top-container\"><div class=\"sk-text-repr-fallback\"><pre>LGBMRegressor(objective=&#x27;mae&#x27;, randome_state=55)</pre><b>In a Jupyter environment, please rerun this cell to show the HTML representation or trust the notebook. <br />On GitHub, the HTML representation is unable to render, please try loading this page with nbviewer.org.</b></div><div class=\"sk-container\" hidden><div class=\"sk-item\"><div class=\"sk-estimator sk-toggleable\"><input class=\"sk-toggleable__control sk-hidden--visually\" id=\"sk-estimator-id-1\" type=\"checkbox\" checked><label for=\"sk-estimator-id-1\" class=\"sk-toggleable__label sk-toggleable__label-arrow\">LGBMRegressor</label><div class=\"sk-toggleable__content\"><pre>LGBMRegressor(objective=&#x27;mae&#x27;, randome_state=55)</pre></div></div></div></div></div>"
      ],
      "text/plain": [
       "LGBMRegressor(objective='mae', randome_state=55)"
      ]
     },
     "execution_count": 28,
     "metadata": {},
     "output_type": "execute_result"
    }
   ],
   "source": [
    "# Initialize the LightGBM regressor\n",
    "lgbm_model = LGBMRegressor( objective = 'mae', randome_state = 55)\n",
    "# Train the model\n",
    "lgbm_model.fit(X_train[feature_list], y_train)"
   ]
  },
  {
   "cell_type": "code",
   "execution_count": 29,
   "metadata": {
    "colab": {
     "base_uri": "https://localhost:8080/",
     "height": 574
    },
    "id": "TEgX7N7Tkogd",
    "outputId": "6b4188dc-cfb0-4d29-8ce8-30a724e91a72"
   },
   "outputs": [
    {
     "name": "stderr",
     "output_type": "stream",
     "text": [
      "/tmp/ipykernel_1199/2481644316.py:6: FutureWarning: \n",
      "\n",
      "Passing `palette` without assigning `hue` is deprecated and will be removed in v0.14.0. Assign the `y` variable to `hue` and set `legend=False` for the same effect.\n",
      "\n",
      "  sns.barplot(data=feat_importances, x='Value', y='Feature', palette='viridis')\n"
     ]
    },
    {
     "data": {
      "image/png": "[encoded data removed]",
      "text/plain": [
       "<Figure size 800x500 with 1 Axes>"
      ]
     },
     "metadata": {},
     "output_type": "display_data"
    }
   ],
   "source": [
    "# Get feature importances\n",
    "importances = lgbm_model.feature_importances_\n",
    "feat_importances = pd.DataFrame({'Value':importances,'Feature':feature_list}).sort_values(by=\"Value\",ascending=False)\n",
    "# Create a bar plot\n",
    "plt.figure(figsize=(8, 5))\n",
    "sns.barplot(data=feat_importances, x='Value', y='Feature', palette='viridis')\n",
    "plt.grid(\":\")\n",
    "plt.show()"
   ]
  },
  {
   "cell_type": "code",
   "execution_count": 30,
   "metadata": {
    "colab": {
     "base_uri": "https://localhost:8080/"
    },
    "id": "m-ft0obqM1HP",
    "outputId": "db96688b-d887-4563-cb31-15707789ccbb"
   },
   "outputs": [
    {
     "name": "stdout",
     "output_type": "stream",
     "text": [
      "[LightGBM] [Warning] Unknown parameter: randome_state\n",
      "[LightGBM] [Warning] Unknown parameter: randome_state\n",
      "Training Set:\n",
      "Mean Absolute Error (MAE): 4.667400775464457\n",
      "\n",
      "\n",
      "Test Set:\n",
      "Mean Absolute Error (MAE): 4.502040762285084\n",
      "Training Set:\n",
      "r2_train: 0.0213670267088667\n",
      "\n",
      "\n",
      "Test Set:\n",
      "r2_test: 0.016791821054009448\n"
     ]
    }
   ],
   "source": [
    "# Predict on the training set\n",
    "y_train_pred = lgbm_model.predict(X_train[feature_list])\n",
    "\n",
    "# Predict on the test set\n",
    "y_test_pred = lgbm_model.predict(X_test[feature_list])\n",
    "\n",
    "# Calculate Mean Absolute Error (MAE) for training and test sets\n",
    "mae_train = mean_absolute_error(y_train, y_train_pred)\n",
    "mae_test = mean_absolute_error(y_test, y_test_pred)\n",
    "\n",
    "# Calculate R-squared (R2) score for training and test sets\n",
    "r2_train = r2_score(y_train, y_train_pred)\n",
    "r2_test = r2_score(y_test, y_test_pred)\n",
    "\n",
    "# Print the results\n",
    "print(f'Training Set:')\n",
    "print(f'Mean Absolute Error (MAE): {mae_train}')\n",
    "\n",
    "print('\\n')\n",
    "\n",
    "print(f'Test Set:')\n",
    "print(f'Mean Absolute Error (MAE): {mae_test}')\n",
    "\n",
    "\n",
    "# Calculate R-squared (R2) score for training and test sets\n",
    "r2_train = r2_score(y_train, y_train_pred)\n",
    "r2_test = r2_score(y_test, y_test_pred)\n",
    "\n",
    "# Print the results\n",
    "print(f'Training Set:')\n",
    "print(f'r2_train: {r2_train}')\n",
    "\n",
    "print('\\n')\n",
    "\n",
    "print(f'Test Set:')\n",
    "print(f'r2_test: {r2_test}')\n",
    "\n",
    "#It is noted that, the MAE score is significantly decreased from 6 to 4.2 on testing after removing outliers and applying kalman filtering.\n"
   ]
  },
  {
   "cell_type": "code",
   "execution_count": 31,
   "metadata": {
    "id": "ikI_sMgtOyzd"
   },
   "outputs": [
    {
     "data": {
      "text/plain": [
       "'\\nRemoving the outlier values significatnly improved test MAE to 4.5.\\nData preprocessing is an important step in machine learning.\\nAs shown in the example above, \"clean and structred\" data can make a significant difference in results.\\n'"
      ]
     },
     "execution_count": 31,
     "metadata": {},
     "output_type": "execute_result"
    }
   ],
   "source": [
    "'''\n",
    "Removing the outlier values significatnly improved test MAE to 4.5.\n",
    "Data preprocessing is an important step in machine learning.\n",
    "As shown in the example above, \"clean and structred\" data can make a significant difference in results.\n",
    "'''"
   ]
  },
  {
   "cell_type": "markdown",
   "metadata": {
    "id": "6LAo0x4EOqIx"
   },
   "source": [
    "## Baseline (Plain) LSTM\n"
   ]
  },
  {
   "cell_type": "code",
   "execution_count": 32,
   "metadata": {
    "colab": {
     "base_uri": "https://localhost:8080/"
    },
    "id": "LHkJoch1OtnX",
    "outputId": "a7a99f92-2955-47f1-da4c-11a74ef54019"
   },
   "outputs": [
    {
     "name": "stdout",
     "output_type": "stream",
     "text": [
      "Epoch 1/50\n"
     ]
    },
    {
     "name": "stderr",
     "output_type": "stream",
     "text": [
      "2024-04-13 13:05:28.491025: I external/local_xla/xla/stream_executor/cuda/cuda_executor.cc:984] could not open file to read NUMA node: /sys/bus/pci/devices/0000:01:00.0/numa_node\n",
      "Your kernel may have been built without NUMA support.\n",
      "2024-04-13 13:05:28.491283: W tensorflow/core/common_runtime/gpu/gpu_device.cc:2251] Cannot dlopen some GPU libraries. Please make sure the missing libraries mentioned above are installed properly if you would like to use GPU. Follow the guide at https://www.tensorflow.org/install/gpu for how to download and setup the required libraries for your platform.\n",
      "Skipping registering GPU devices...\n",
      "/home/jtgraham/.local/lib/python3.10/site-packages/keras/src/layers/rnn/rnn.py:204: UserWarning: Do not pass an `input_shape`/`input_dim` argument to a layer. When using Sequential models, prefer using an `Input(shape)` object as the first layer in the model instead.\n",
      "  super().__init__(**kwargs)\n"
     ]
    },
    {
     "name": "stdout",
     "output_type": "stream",
     "text": [
      "\u001b[1m94272/94272\u001b[0m \u001b[32m━━━━━━━━━━━━━━━━━━━━\u001b[0m\u001b[37m\u001b[0m \u001b[1m304s\u001b[0m 3ms/step - accuracy: 6.8215e-04 - loss: 4.7292 - val_accuracy: 6.9082e-04 - val_loss: 4.7158\n",
      "Epoch 2/50\n",
      "\u001b[1m94272/94272\u001b[0m \u001b[32m━━━━━━━━━━━━━━━━━━━━\u001b[0m\u001b[37m\u001b[0m \u001b[1m309s\u001b[0m 3ms/step - accuracy: 6.5033e-04 - loss: 4.6993 - val_accuracy: 6.0198e-04 - val_loss: 4.7081\n",
      "Epoch 3/50\n",
      "\u001b[1m94272/94272\u001b[0m \u001b[32m━━━━━━━━━━━━━━━━━━━━\u001b[0m\u001b[37m\u001b[0m \u001b[1m290s\u001b[0m 3ms/step - accuracy: 6.1142e-04 - loss: 4.6927 - val_accuracy: 5.1447e-04 - val_loss: 4.7050\n",
      "Epoch 4/50\n",
      "\u001b[1m94272/94272\u001b[0m \u001b[32m━━━━━━━━━━━━━━━━━━━━\u001b[0m\u001b[37m\u001b[0m \u001b[1m288s\u001b[0m 3ms/step - accuracy: 5.4450e-04 - loss: 4.6857 - val_accuracy: 5.6485e-04 - val_loss: 4.7013\n",
      "Epoch 5/50\n",
      "\u001b[1m94272/94272\u001b[0m \u001b[32m━━━━━━━━━━━━━━━━━━━━\u001b[0m\u001b[37m\u001b[0m \u001b[1m286s\u001b[0m 3ms/step - accuracy: 5.7871e-04 - loss: 4.6830 - val_accuracy: 5.5292e-04 - val_loss: 4.6997\n",
      "Epoch 6/50\n",
      "\u001b[1m94272/94272\u001b[0m \u001b[32m━━━━━━━━━━━━━━━━━━━━\u001b[0m\u001b[37m\u001b[0m \u001b[1m285s\u001b[0m 3ms/step - accuracy: 5.5227e-04 - loss: 4.6831 - val_accuracy: 5.4099e-04 - val_loss: 4.6989\n",
      "Epoch 7/50\n",
      "\u001b[1m94272/94272\u001b[0m \u001b[32m━━━━━━━━━━━━━━━━━━━━\u001b[0m\u001b[37m\u001b[0m \u001b[1m286s\u001b[0m 3ms/step - accuracy: 5.6551e-04 - loss: 4.6834 - val_accuracy: 5.3436e-04 - val_loss: 4.6988\n",
      "Epoch 8/50\n",
      "\u001b[1m94272/94272\u001b[0m \u001b[32m━━━━━━━━━━━━━━━━━━━━\u001b[0m\u001b[37m\u001b[0m \u001b[1m286s\u001b[0m 3ms/step - accuracy: 5.6383e-04 - loss: 4.6771 - val_accuracy: 5.3568e-04 - val_loss: 4.6987\n",
      "Epoch 9/50\n",
      "\u001b[1m94272/94272\u001b[0m \u001b[32m━━━━━━━━━━━━━━━━━━━━\u001b[0m\u001b[37m\u001b[0m \u001b[1m288s\u001b[0m 3ms/step - accuracy: 5.4972e-04 - loss: 4.6769 - val_accuracy: 5.3303e-04 - val_loss: 4.6986\n",
      "Epoch 10/50\n",
      "\u001b[1m94272/94272\u001b[0m \u001b[32m━━━━━━━━━━━━━━━━━━━━\u001b[0m\u001b[37m\u001b[0m \u001b[1m288s\u001b[0m 3ms/step - accuracy: 5.4706e-04 - loss: 4.6802 - val_accuracy: 5.3171e-04 - val_loss: 4.6986\n",
      "Epoch 11/50\n",
      "\u001b[1m94272/94272\u001b[0m \u001b[32m━━━━━━━━━━━━━━━━━━━━\u001b[0m\u001b[37m\u001b[0m \u001b[1m288s\u001b[0m 3ms/step - accuracy: 5.5180e-04 - loss: 4.6787 - val_accuracy: 5.3171e-04 - val_loss: 4.6986\n",
      "Epoch 12/50\n",
      "\u001b[1m94272/94272\u001b[0m \u001b[32m━━━━━━━━━━━━━━━━━━━━\u001b[0m\u001b[37m\u001b[0m \u001b[1m288s\u001b[0m 3ms/step - accuracy: 5.5169e-04 - loss: 4.6779 - val_accuracy: 5.3171e-04 - val_loss: 4.6986\n",
      "Epoch 13/50\n",
      "\u001b[1m94272/94272\u001b[0m \u001b[32m━━━━━━━━━━━━━━━━━━━━\u001b[0m\u001b[37m\u001b[0m \u001b[1m289s\u001b[0m 3ms/step - accuracy: 5.5185e-04 - loss: 4.6779 - val_accuracy: 5.3171e-04 - val_loss: 4.6986\n",
      "Epoch 14/50\n",
      "\u001b[1m94272/94272\u001b[0m \u001b[32m━━━━━━━━━━━━━━━━━━━━\u001b[0m\u001b[37m\u001b[0m \u001b[1m289s\u001b[0m 3ms/step - accuracy: 5.4822e-04 - loss: 4.6786 - val_accuracy: 5.3171e-04 - val_loss: 4.6986\n",
      "Epoch 15/50\n",
      "\u001b[1m94272/94272\u001b[0m \u001b[32m━━━━━━━━━━━━━━━━━━━━\u001b[0m\u001b[37m\u001b[0m \u001b[1m289s\u001b[0m 3ms/step - accuracy: 5.7865e-04 - loss: 4.6778 - val_accuracy: 5.3171e-04 - val_loss: 4.6986\n",
      "Epoch 16/50\n",
      "\u001b[1m94272/94272\u001b[0m \u001b[32m━━━━━━━━━━━━━━━━━━━━\u001b[0m\u001b[37m\u001b[0m \u001b[1m289s\u001b[0m 3ms/step - accuracy: 5.3500e-04 - loss: 4.6763 - val_accuracy: 5.3171e-04 - val_loss: 4.6986\n",
      "Epoch 17/50\n",
      "\u001b[1m94272/94272\u001b[0m \u001b[32m━━━━━━━━━━━━━━━━━━━━\u001b[0m\u001b[37m\u001b[0m \u001b[1m290s\u001b[0m 3ms/step - accuracy: 5.4850e-04 - loss: 4.6782 - val_accuracy: 5.3171e-04 - val_loss: 4.6986\n",
      "Epoch 18/50\n",
      "\u001b[1m94272/94272\u001b[0m \u001b[32m━━━━━━━━━━━━━━━━━━━━\u001b[0m\u001b[37m\u001b[0m \u001b[1m291s\u001b[0m 3ms/step - accuracy: 5.5252e-04 - loss: 4.6764 - val_accuracy: 5.3171e-04 - val_loss: 4.6986\n",
      "Epoch 19/50\n",
      "\u001b[1m94272/94272\u001b[0m \u001b[32m━━━━━━━━━━━━━━━━━━━━\u001b[0m\u001b[37m\u001b[0m \u001b[1m291s\u001b[0m 3ms/step - accuracy: 5.2307e-04 - loss: 4.6803 - val_accuracy: 5.3171e-04 - val_loss: 4.6986\n",
      "Epoch 20/50\n",
      "\u001b[1m94272/94272\u001b[0m \u001b[32m━━━━━━━━━━━━━━━━━━━━\u001b[0m\u001b[37m\u001b[0m \u001b[1m291s\u001b[0m 3ms/step - accuracy: 5.4430e-04 - loss: 4.6759 - val_accuracy: 5.3171e-04 - val_loss: 4.6986\n",
      "Epoch 21/50\n",
      "\u001b[1m94272/94272\u001b[0m \u001b[32m━━━━━━━━━━━━━━━━━━━━\u001b[0m\u001b[37m\u001b[0m \u001b[1m291s\u001b[0m 3ms/step - accuracy: 5.4805e-04 - loss: 4.6779 - val_accuracy: 5.3171e-04 - val_loss: 4.6986\n",
      "Epoch 22/50\n",
      "\u001b[1m94272/94272\u001b[0m \u001b[32m━━━━━━━━━━━━━━━━━━━━\u001b[0m\u001b[37m\u001b[0m \u001b[1m292s\u001b[0m 3ms/step - accuracy: 5.3821e-04 - loss: 4.6778 - val_accuracy: 5.3171e-04 - val_loss: 4.6986\n",
      "Epoch 23/50\n",
      "\u001b[1m94272/94272\u001b[0m \u001b[32m━━━━━━━━━━━━━━━━━━━━\u001b[0m\u001b[37m\u001b[0m \u001b[1m292s\u001b[0m 3ms/step - accuracy: 5.6740e-04 - loss: 4.6764 - val_accuracy: 5.3171e-04 - val_loss: 4.6986\n",
      "Epoch 24/50\n",
      "\u001b[1m94272/94272\u001b[0m \u001b[32m━━━━━━━━━━━━━━━━━━━━\u001b[0m\u001b[37m\u001b[0m \u001b[1m292s\u001b[0m 3ms/step - accuracy: 5.5157e-04 - loss: 4.6747 - val_accuracy: 5.3171e-04 - val_loss: 4.6986\n",
      "Epoch 25/50\n",
      "\u001b[1m94272/94272\u001b[0m \u001b[32m━━━━━━━━━━━━━━━━━━━━\u001b[0m\u001b[37m\u001b[0m \u001b[1m293s\u001b[0m 3ms/step - accuracy: 5.5164e-04 - loss: 4.6723 - val_accuracy: 5.3171e-04 - val_loss: 4.6986\n",
      "Epoch 26/50\n",
      "\u001b[1m94272/94272\u001b[0m \u001b[32m━━━━━━━━━━━━━━━━━━━━\u001b[0m\u001b[37m\u001b[0m \u001b[1m293s\u001b[0m 3ms/step - accuracy: 5.4664e-04 - loss: 4.6758 - val_accuracy: 5.3171e-04 - val_loss: 4.6986\n",
      "Epoch 27/50\n",
      "\u001b[1m94272/94272\u001b[0m \u001b[32m━━━━━━━━━━━━━━━━━━━━\u001b[0m\u001b[37m\u001b[0m \u001b[1m295s\u001b[0m 3ms/step - accuracy: 5.3357e-04 - loss: 4.6795 - val_accuracy: 5.3171e-04 - val_loss: 4.6986\n",
      "Epoch 28/50\n",
      "\u001b[1m94272/94272\u001b[0m \u001b[32m━━━━━━━━━━━━━━━━━━━━\u001b[0m\u001b[37m\u001b[0m \u001b[1m294s\u001b[0m 3ms/step - accuracy: 5.4196e-04 - loss: 4.6788 - val_accuracy: 5.3171e-04 - val_loss: 4.6986\n",
      "Epoch 29/50\n",
      "\u001b[1m94272/94272\u001b[0m \u001b[32m━━━━━━━━━━━━━━━━━━━━\u001b[0m\u001b[37m\u001b[0m \u001b[1m294s\u001b[0m 3ms/step - accuracy: 5.5834e-04 - loss: 4.6802 - val_accuracy: 5.3171e-04 - val_loss: 4.6986\n",
      "Epoch 30/50\n",
      "\u001b[1m94272/94272\u001b[0m \u001b[32m━━━━━━━━━━━━━━━━━━━━\u001b[0m\u001b[37m\u001b[0m \u001b[1m294s\u001b[0m 3ms/step - accuracy: 5.5357e-04 - loss: 4.6759 - val_accuracy: 5.3171e-04 - val_loss: 4.6986\n",
      "Epoch 31/50\n",
      "\u001b[1m94272/94272\u001b[0m \u001b[32m━━━━━━━━━━━━━━━━━━━━\u001b[0m\u001b[37m\u001b[0m \u001b[1m295s\u001b[0m 3ms/step - accuracy: 5.2432e-04 - loss: 4.6788 - val_accuracy: 5.3171e-04 - val_loss: 4.6986\n",
      "Epoch 32/50\n",
      "\u001b[1m94272/94272\u001b[0m \u001b[32m━━━━━━━━━━━━━━━━━━━━\u001b[0m\u001b[37m\u001b[0m \u001b[1m298s\u001b[0m 3ms/step - accuracy: 5.4018e-04 - loss: 4.6768 - val_accuracy: 5.3171e-04 - val_loss: 4.6986\n",
      "Epoch 33/50\n",
      "\u001b[1m94272/94272\u001b[0m \u001b[32m━━━━━━━━━━━━━━━━━━━━\u001b[0m\u001b[37m\u001b[0m \u001b[1m298s\u001b[0m 3ms/step - accuracy: 5.5585e-04 - loss: 4.6747 - val_accuracy: 5.3171e-04 - val_loss: 4.6986\n",
      "Epoch 34/50\n",
      "\u001b[1m94272/94272\u001b[0m \u001b[32m━━━━━━━━━━━━━━━━━━━━\u001b[0m\u001b[37m\u001b[0m \u001b[1m297s\u001b[0m 3ms/step - accuracy: 5.4725e-04 - loss: 4.6792 - val_accuracy: 5.3171e-04 - val_loss: 4.6986\n",
      "Epoch 35/50\n",
      "\u001b[1m94272/94272\u001b[0m \u001b[32m━━━━━━━━━━━━━━━━━━━━\u001b[0m\u001b[37m\u001b[0m \u001b[1m296s\u001b[0m 3ms/step - accuracy: 5.5341e-04 - loss: 4.6800 - val_accuracy: 5.3171e-04 - val_loss: 4.6986\n",
      "Epoch 36/50\n",
      "\u001b[1m94272/94272\u001b[0m \u001b[32m━━━━━━━━━━━━━━━━━━━━\u001b[0m\u001b[37m\u001b[0m \u001b[1m298s\u001b[0m 3ms/step - accuracy: 5.4798e-04 - loss: 4.6782 - val_accuracy: 5.3171e-04 - val_loss: 4.6986\n",
      "Epoch 37/50\n",
      "\u001b[1m94272/94272\u001b[0m \u001b[32m━━━━━━━━━━━━━━━━━━━━\u001b[0m\u001b[37m\u001b[0m \u001b[1m298s\u001b[0m 3ms/step - accuracy: 5.4474e-04 - loss: 4.6787 - val_accuracy: 5.3171e-04 - val_loss: 4.6986\n",
      "Epoch 38/50\n",
      "\u001b[1m94272/94272\u001b[0m \u001b[32m━━━━━━━━━━━━━━━━━━━━\u001b[0m\u001b[37m\u001b[0m \u001b[1m298s\u001b[0m 3ms/step - accuracy: 5.4151e-04 - loss: 4.6751 - val_accuracy: 5.3171e-04 - val_loss: 4.6986\n",
      "Epoch 39/50\n",
      "\u001b[1m94272/94272\u001b[0m \u001b[32m━━━━━━━━━━━━━━━━━━━━\u001b[0m\u001b[37m\u001b[0m \u001b[1m299s\u001b[0m 3ms/step - accuracy: 5.5377e-04 - loss: 4.6767 - val_accuracy: 5.3171e-04 - val_loss: 4.6986\n",
      "Epoch 40/50\n",
      "\u001b[1m94272/94272\u001b[0m \u001b[32m━━━━━━━━━━━━━━━━━━━━\u001b[0m\u001b[37m\u001b[0m \u001b[1m322s\u001b[0m 3ms/step - accuracy: 5.4764e-04 - loss: 4.6794 - val_accuracy: 5.3171e-04 - val_loss: 4.6986\n",
      "Epoch 41/50\n",
      "\u001b[1m94272/94272\u001b[0m \u001b[32m━━━━━━━━━━━━━━━━━━━━\u001b[0m\u001b[37m\u001b[0m \u001b[1m298s\u001b[0m 3ms/step - accuracy: 5.3627e-04 - loss: 4.6794 - val_accuracy: 5.3171e-04 - val_loss: 4.6986\n",
      "Epoch 42/50\n",
      "\u001b[1m94272/94272\u001b[0m \u001b[32m━━━━━━━━━━━━━━━━━━━━\u001b[0m\u001b[37m\u001b[0m \u001b[1m299s\u001b[0m 3ms/step - accuracy: 5.4246e-04 - loss: 4.6799 - val_accuracy: 5.3171e-04 - val_loss: 4.6986\n",
      "Epoch 43/50\n",
      "\u001b[1m94272/94272\u001b[0m \u001b[32m━━━━━━━━━━━━━━━━━━━━\u001b[0m\u001b[37m\u001b[0m \u001b[1m300s\u001b[0m 3ms/step - accuracy: 5.6162e-04 - loss: 4.6829 - val_accuracy: 5.3171e-04 - val_loss: 4.6986\n",
      "Epoch 44/50\n",
      "\u001b[1m94272/94272\u001b[0m \u001b[32m━━━━━━━━━━━━━━━━━━━━\u001b[0m\u001b[37m\u001b[0m \u001b[1m299s\u001b[0m 3ms/step - accuracy: 5.4080e-04 - loss: 4.6750 - val_accuracy: 5.3171e-04 - val_loss: 4.6986\n",
      "Epoch 45/50\n",
      "\u001b[1m94272/94272\u001b[0m \u001b[32m━━━━━━━━━━━━━━━━━━━━\u001b[0m\u001b[37m\u001b[0m \u001b[1m299s\u001b[0m 3ms/step - accuracy: 5.4192e-04 - loss: 4.6790 - val_accuracy: 5.3171e-04 - val_loss: 4.6986\n",
      "Epoch 46/50\n",
      "\u001b[1m94272/94272\u001b[0m \u001b[32m━━━━━━━━━━━━━━━━━━━━\u001b[0m\u001b[37m\u001b[0m \u001b[1m301s\u001b[0m 3ms/step - accuracy: 5.4124e-04 - loss: 4.6778 - val_accuracy: 5.3171e-04 - val_loss: 4.6986\n",
      "Epoch 47/50\n",
      "\u001b[1m94272/94272\u001b[0m \u001b[32m━━━━━━━━━━━━━━━━━━━━\u001b[0m\u001b[37m\u001b[0m \u001b[1m299s\u001b[0m 3ms/step - accuracy: 5.2879e-04 - loss: 4.6746 - val_accuracy: 5.3171e-04 - val_loss: 4.6986\n",
      "Epoch 48/50\n",
      "\u001b[1m94272/94272\u001b[0m \u001b[32m━━━━━━━━━━━━━━━━━━━━\u001b[0m\u001b[37m\u001b[0m \u001b[1m303s\u001b[0m 3ms/step - accuracy: 5.3280e-04 - loss: 4.6780 - val_accuracy: 5.3171e-04 - val_loss: 4.6986\n",
      "Epoch 49/50\n",
      "\u001b[1m94272/94272\u001b[0m \u001b[32m━━━━━━━━━━━━━━━━━━━━\u001b[0m\u001b[37m\u001b[0m \u001b[1m304s\u001b[0m 3ms/step - accuracy: 5.3553e-04 - loss: 4.6808 - val_accuracy: 5.3171e-04 - val_loss: 4.6986\n",
      "Epoch 50/50\n",
      "\u001b[1m94272/94272\u001b[0m \u001b[32m━━━━━━━━━━━━━━━━━━━━\u001b[0m\u001b[37m\u001b[0m \u001b[1m304s\u001b[0m 3ms/step - accuracy: 5.3608e-04 - loss: 4.6733 - val_accuracy: 5.3171e-04 - val_loss: 4.6986\n",
      "\u001b[1m117841/117841\u001b[0m \u001b[32m━━━━━━━━━━━━━━━━━━━━\u001b[0m\u001b[37m\u001b[0m \u001b[1m166s\u001b[0m 1ms/step\n",
      "\u001b[1m29461/29461\u001b[0m \u001b[32m━━━━━━━━━━━━━━━━━━━━\u001b[0m\u001b[37m\u001b[0m \u001b[1m42s\u001b[0m 1ms/step\n",
      "Training Set:\n",
      "Mean Absolute Error (MAE): 4.681836816642585\n",
      "\n",
      "\n",
      "Test Set:\n",
      "Mean Absolute Error (MAE): 4.513183810811887\n"
     ]
    }
   ],
   "source": [
    "from tensorflow.keras.models import Sequential\n",
    "from tensorflow.keras.layers import LSTM, Dense\n",
    "\n",
    "model = Sequential()\n",
    "model.add(LSTM(100, activation='relu', return_sequences=True, input_shape=(X_train_scaled.shape[1], 1)))\n",
    "model.add(LSTM(50, activation='relu'))\n",
    "model.add(Dense(1))\n",
    "\n",
    "\n",
    "lr_schedule = tf.keras.optimizers.schedules.ExponentialDecay(\n",
    "    initial_learning_rate=0.01,\n",
    "    decay_steps=10000,\n",
    "    decay_rate=0.9)\n",
    "optimizer = tf.keras.optimizers.Adam(learning_rate=lr_schedule)\n",
    "\n",
    "model.compile(optimizer=optimizer, loss='mae', metrics=['accuracy'])\n",
    "# fit model\n",
    "history=model.fit(X_train_scaled, y_train, epochs=50, verbose=1, batch_size=32, validation_split=0.2)\n",
    "\n",
    "yhat_train = model.predict(X_train_scaled)\n",
    "yhat_test = model.predict(X_test_scaled)\n",
    "\n",
    "# Calculate Mean Absolute Error (MAE) for training and test sets\n",
    "mae_train = mean_absolute_error(y_train, yhat_train)\n",
    "mae_test = mean_absolute_error(y_test, yhat_test)\n",
    "\n",
    "# Print the results\n",
    "print(f'Training Set:')\n",
    "print(f'Mean Absolute Error (MAE): {mae_train}')\n",
    "\n",
    "print('\\n')\n",
    "\n",
    "print(f'Test Set:')\n",
    "print(f'Mean Absolute Error (MAE): {mae_test}')"
   ]
  },
  {
   "cell_type": "code",
   "execution_count": 33,
   "metadata": {
    "id": "bU3wyxazYl2K"
   },
   "outputs": [
    {
     "data": {
      "image/png": "[encoded data removed]",
      "text/plain": [
       "<Figure size 640x480 with 1 Axes>"
      ]
     },
     "metadata": {},
     "output_type": "display_data"
    }
   ],
   "source": [
    "# summarize history for loss\n",
    "plt.plot(history.history['loss'])\n",
    "plt.plot(history.history['val_loss'])\n",
    "#plt.title('LSTM model loss')\n",
    "plt.ylabel('loss')\n",
    "plt.xlabel('epoch')\n",
    "plt.legend(['train', 'test'], loc='best')\n",
    "plt.show()"
   ]
  }
 ],
 "metadata": {
  "accelerator": "GPU",
  "colab": {
   "gpuType": "T4",
   "provenance": []
  },
  "kernelspec": {
   "display_name": "Python 3 (ipykernel)",
   "language": "python",
   "name": "python3"
  },
  "language_info": {
   "codemirror_mode": {
    "name": "ipython",
    "version": 3
   },
   "file_extension": ".py",
   "mimetype": "text/x-python",
   "name": "python",
   "nbconvert_exporter": "python",
   "pygments_lexer": "ipython3",
   "version": "3.11.5"
  }
 },
 "nbformat": 4,
 "nbformat_minor": 4
}
